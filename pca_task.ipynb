{
 "cells": [
  {
   "cell_type": "markdown",
   "metadata": {},
   "source": [
    "# Использование метода главных компонент"
   ]
  },
  {
   "cell_type": "markdown",
   "metadata": {},
   "source": [
    "### Рассмотрим переход к новым координатам, а также восстановление изображения с помощью метода главных компонент"
   ]
  },
  {
   "cell_type": "code",
   "execution_count": 1,
   "metadata": {
    "colab": {
     "base_uri": "https://localhost:8080/"
    },
    "id": "h4F9iTQSbq7H",
    "outputId": "1ed66f86-ce53-4b87-bdd4-87f4ba7b9074"
   },
   "outputs": [],
   "source": [
    "# выгрузим необходимые библиотеки\n",
    "import numpy as np\n",
    "from sklearn.decomposition import PCA\n",
    "import matplotlib\n",
    "import matplotlib.pyplot as plt\n",
    "import pandas as pd\n",
    "\n",
    "%matplotlib inline"
   ]
  },
  {
   "cell_type": "markdown",
   "metadata": {},
   "source": [
    "У нас есть файл с 60 объектами, имеющими 10 признаков."
   ]
  },
  {
   "cell_type": "code",
   "execution_count": 2,
   "metadata": {
    "scrolled": true
   },
   "outputs": [
    {
     "data": {
      "text/html": [
       "<div>\n",
       "<style scoped>\n",
       "    .dataframe tbody tr th:only-of-type {\n",
       "        vertical-align: middle;\n",
       "    }\n",
       "\n",
       "    .dataframe tbody tr th {\n",
       "        vertical-align: top;\n",
       "    }\n",
       "\n",
       "    .dataframe thead th {\n",
       "        text-align: right;\n",
       "    }\n",
       "</style>\n",
       "<table border=\"1\" class=\"dataframe\">\n",
       "  <thead>\n",
       "    <tr style=\"text-align: right;\">\n",
       "      <th></th>\n",
       "      <th>0</th>\n",
       "      <th>1</th>\n",
       "      <th>2</th>\n",
       "      <th>3</th>\n",
       "      <th>4</th>\n",
       "      <th>5</th>\n",
       "      <th>6</th>\n",
       "      <th>7</th>\n",
       "      <th>8</th>\n",
       "      <th>9</th>\n",
       "    </tr>\n",
       "  </thead>\n",
       "  <tbody>\n",
       "    <tr>\n",
       "      <th>0</th>\n",
       "      <td>-21.758750</td>\n",
       "      <td>-11.043222</td>\n",
       "      <td>-21.322624</td>\n",
       "      <td>19.233025</td>\n",
       "      <td>-7.624013</td>\n",
       "      <td>8.217733</td>\n",
       "      <td>-15.496303</td>\n",
       "      <td>-8.225633</td>\n",
       "      <td>-23.459373</td>\n",
       "      <td>-8.503266</td>\n",
       "    </tr>\n",
       "    <tr>\n",
       "      <th>1</th>\n",
       "      <td>-11.954435</td>\n",
       "      <td>5.731338</td>\n",
       "      <td>21.649597</td>\n",
       "      <td>-12.314079</td>\n",
       "      <td>-2.302002</td>\n",
       "      <td>-15.050914</td>\n",
       "      <td>-6.663314</td>\n",
       "      <td>5.184141</td>\n",
       "      <td>13.271218</td>\n",
       "      <td>-21.778988</td>\n",
       "    </tr>\n",
       "    <tr>\n",
       "      <th>2</th>\n",
       "      <td>-25.993705</td>\n",
       "      <td>-9.174623</td>\n",
       "      <td>-23.294676</td>\n",
       "      <td>16.449114</td>\n",
       "      <td>-4.912752</td>\n",
       "      <td>6.100581</td>\n",
       "      <td>-12.318147</td>\n",
       "      <td>-8.163711</td>\n",
       "      <td>-22.736823</td>\n",
       "      <td>-9.275570</td>\n",
       "    </tr>\n",
       "    <tr>\n",
       "      <th>3</th>\n",
       "      <td>9.447535</td>\n",
       "      <td>2.893105</td>\n",
       "      <td>-17.693701</td>\n",
       "      <td>-16.145291</td>\n",
       "      <td>-10.196801</td>\n",
       "      <td>-18.332392</td>\n",
       "      <td>20.865531</td>\n",
       "      <td>10.760516</td>\n",
       "      <td>-12.218150</td>\n",
       "      <td>4.898756</td>\n",
       "    </tr>\n",
       "    <tr>\n",
       "      <th>4</th>\n",
       "      <td>-10.090899</td>\n",
       "      <td>9.779838</td>\n",
       "      <td>19.617699</td>\n",
       "      <td>-11.942188</td>\n",
       "      <td>-1.694636</td>\n",
       "      <td>-13.898268</td>\n",
       "      <td>-6.987190</td>\n",
       "      <td>5.526610</td>\n",
       "      <td>13.324163</td>\n",
       "      <td>-22.001462</td>\n",
       "    </tr>\n",
       "  </tbody>\n",
       "</table>\n",
       "</div>"
      ],
      "text/plain": [
       "           0          1          2          3          4          5  \\\n",
       "0 -21.758750 -11.043222 -21.322624  19.233025  -7.624013   8.217733   \n",
       "1 -11.954435   5.731338  21.649597 -12.314079  -2.302002 -15.050914   \n",
       "2 -25.993705  -9.174623 -23.294676  16.449114  -4.912752   6.100581   \n",
       "3   9.447535   2.893105 -17.693701 -16.145291 -10.196801 -18.332392   \n",
       "4 -10.090899   9.779838  19.617699 -11.942188  -1.694636 -13.898268   \n",
       "\n",
       "           6          7          8          9  \n",
       "0 -15.496303  -8.225633 -23.459373  -8.503266  \n",
       "1  -6.663314   5.184141  13.271218 -21.778988  \n",
       "2 -12.318147  -8.163711 -22.736823  -9.275570  \n",
       "3  20.865531  10.760516 -12.218150   4.898756  \n",
       "4  -6.987190   5.526610  13.324163 -22.001462  "
      ]
     },
     "execution_count": 2,
     "metadata": {},
     "output_type": "execute_result"
    }
   ],
   "source": [
    "X = pd.read_csv(\"pca_test_data.csv\", header = None)\n",
    "X.head()"
   ]
  },
  {
   "cell_type": "code",
   "execution_count": 3,
   "metadata": {},
   "outputs": [
    {
     "name": "stdout",
     "output_type": "stream",
     "text": [
      "<class 'pandas.core.frame.DataFrame'>\n",
      "RangeIndex: 60 entries, 0 to 59\n",
      "Data columns (total 10 columns):\n",
      " #   Column  Non-Null Count  Dtype  \n",
      "---  ------  --------------  -----  \n",
      " 0   0       60 non-null     float64\n",
      " 1   1       60 non-null     float64\n",
      " 2   2       60 non-null     float64\n",
      " 3   3       60 non-null     float64\n",
      " 4   4       60 non-null     float64\n",
      " 5   5       60 non-null     float64\n",
      " 6   6       60 non-null     float64\n",
      " 7   7       60 non-null     float64\n",
      " 8   8       60 non-null     float64\n",
      " 9   9       60 non-null     float64\n",
      "dtypes: float64(10)\n",
      "memory usage: 4.8 KB\n"
     ]
    }
   ],
   "source": [
    "X.info()"
   ]
  },
  {
   "cell_type": "markdown",
   "metadata": {},
   "source": [
    "Перейдем к новым координатам и найдем следующие признаки:\n",
    "\n",
    "- координаты первого объекта относительно первой и второй главной компонент"
   ]
  },
  {
   "cell_type": "code",
   "execution_count": 4,
   "metadata": {},
   "outputs": [
    {
     "data": {
      "text/plain": [
       "array([ -2.49279543, -34.21521225])"
      ]
     },
     "execution_count": 4,
     "metadata": {},
     "output_type": "execute_result"
    }
   ],
   "source": [
    " # так как матрица небольшая, используем метод 'full' для вычисления разложения матрицы\n",
    "pca = PCA(n_components=2, svd_solver='full')\n",
    "X_transformed = pca.fit(X).transform(X)\n",
    "X_transformed[0]"
   ]
  },
  {
   "cell_type": "markdown",
   "metadata": {},
   "source": [
    "- долю объясненной дисперсии (при использовании первых двух главных компонент)"
   ]
  },
  {
   "cell_type": "code",
   "execution_count": 5,
   "metadata": {
    "colab": {
     "base_uri": "https://localhost:8080/"
    },
    "id": "i352IqgLd2LI",
    "outputId": "4d77b112-4ae6-4f99-ef49-a5e9683e843c"
   },
   "outputs": [
    {
     "data": {
      "text/plain": [
       "0.607"
      ]
     },
     "execution_count": 5,
     "metadata": {},
     "output_type": "execute_result"
    }
   ],
   "source": [
    "explained_variance = np.round(np.cumsum(pca.explained_variance_ratio_),3)\n",
    "explained_variance[1]"
   ]
  },
  {
   "cell_type": "markdown",
   "metadata": {},
   "source": [
    "- какое минимальное количество главных компонент необходимо использовать, чтобы доля объясненной дисперсии превышала 0.85 (выбираем номер компоненты, после которого доля становится > 0.85, в данном случае это 4 компонента - 0.942)"
   ]
  },
  {
   "cell_type": "code",
   "execution_count": 6,
   "metadata": {
    "colab": {
     "base_uri": "https://localhost:8080/"
    },
    "id": "bBR8-P6Sd2OG",
    "outputId": "3e9692cd-34e9-4894-f631-1eeb25201490"
   },
   "outputs": [
    {
     "data": {
      "text/plain": [
       "array([0.363, 0.607, 0.84 , 0.942, 0.996, 0.997, 0.998, 0.999, 0.999,\n",
       "       1.   ])"
      ]
     },
     "execution_count": 6,
     "metadata": {},
     "output_type": "execute_result"
    }
   ],
   "source": [
    "pca = PCA(n_components=10, svd_solver='auto')\n",
    "X_full = pca.fit(X).transform(X)\n",
    "explained_variance = np.round(np.cumsum(pca.explained_variance_ratio_),3)\n",
    "explained_variance"
   ]
  },
  {
   "cell_type": "code",
   "execution_count": 7,
   "metadata": {},
   "outputs": [
    {
     "name": "stdout",
     "output_type": "stream",
     "text": [
      "4 компонента: 0.942\n"
     ]
    }
   ],
   "source": [
    "print('4 компонента:', explained_variance[3])"
   ]
  },
  {
   "cell_type": "markdown",
   "metadata": {},
   "source": [
    "- используя только две главные компоненты, найдем, на сколько групп можно поделить объекты"
   ]
  },
  {
   "cell_type": "code",
   "execution_count": 8,
   "metadata": {
    "colab": {
     "base_uri": "https://localhost:8080/",
     "height": 447
    },
    "id": "JPsJcA2jd2Qn",
    "outputId": "08e87b93-e374-4eb4-a2f2-371510a0f630"
   },
   "outputs": [
    {
     "data": {
      "text/plain": [
       "[<matplotlib.lines.Line2D at 0x2039dcb1b50>]"
      ]
     },
     "execution_count": 8,
     "metadata": {},
     "output_type": "execute_result"
    },
    {
     "data": {
      "image/png": "[encoded data removed]",
      "text/plain": [
       "<Figure size 640x480 with 1 Axes>"
      ]
     },
     "metadata": {},
     "output_type": "display_data"
    }
   ],
   "source": [
    "plt.plot(X_transformed[:60, 0], X_transformed[:60, 1], 'o', markerfacecolor='blue', markeredgecolor='k', markersize=8)\n",
    "# получается 6 групп"
   ]
  },
  {
   "cell_type": "markdown",
   "metadata": {},
   "source": [
    "### Теперь попробуем восстановить изображение по 10 главным компонентам"
   ]
  },
  {
   "cell_type": "markdown",
   "metadata": {},
   "source": [
    "В двух файлах хранятся матрица счетов и матрица весов этих компонент.\n",
    "\n",
    "Чтобы мы могли использовать математические операции, выгрузим файлы сразу в массив"
   ]
  },
  {
   "cell_type": "code",
   "execution_count": 9,
   "metadata": {},
   "outputs": [],
   "source": [
    "scores = np.genfromtxt('X_reduced.csv', delimiter=';')\n",
    "loadings = np.genfromtxt('X_loadings.csv', delimiter=';')"
   ]
  },
  {
   "attachments": {},
   "cell_type": "markdown",
   "metadata": {},
   "source": [
    "Вычислим матричное произведение, а затем выведем его с помощью цветовой сетки"
   ]
  },
  {
   "cell_type": "code",
   "execution_count": 10,
   "metadata": {
    "colab": {
     "base_uri": "https://localhost:8080/",
     "height": 450
    },
    "id": "NMz4U_7Jd2TM",
    "outputId": "df621361-ac7a-493e-fef4-eb33f45a33ee"
   },
   "outputs": [
    {
     "data": {
      "text/plain": [
       "<matplotlib.image.AxesImage at 0x2039dd0e5b0>"
      ]
     },
     "execution_count": 10,
     "metadata": {},
     "output_type": "execute_result"
    },
    {
     "data": {
      "image/png": "[encoded data removed]",
      "text/plain": [
       "<Figure size 640x480 with 1 Axes>"
      ]
     },
     "metadata": {},
     "output_type": "display_data"
    }
   ],
   "source": [
    "values = np.dot(scores,loadings.T)\n",
    "plt.imshow(values, cmap='Greys_r')"
   ]
  },
  {
   "cell_type": "markdown",
   "metadata": {
    "id": "NXIYSC6Hd2Vn"
   },
   "source": [
    "Так мы увидели различные способы использования метода главных компонент"
   ]
  },
  {
   "cell_type": "code",
   "execution_count": null,
   "metadata": {},
   "outputs": [],
   "source": []
  }
 ],
 "metadata": {
  "colab": {
   "provenance": []
  },
  "kernelspec": {
   "display_name": "Python 3 (ipykernel)",
   "language": "python",
   "name": "python3"
  },
  "language_info": {
   "codemirror_mode": {
    "name": "ipython",
    "version": 3
   },
   "file_extension": ".py",
   "mimetype": "text/x-python",
   "name": "python",
   "nbconvert_exporter": "python",
   "pygments_lexer": "ipython3",
   "version": "3.9.13"
  }
 },
 "nbformat": 4,
 "nbformat_minor": 1
}
